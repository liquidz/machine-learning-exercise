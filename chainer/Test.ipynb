{
 "cells": [
  {
   "cell_type": "code",
   "execution_count": 4,
   "metadata": {
    "collapsed": false
   },
   "outputs": [],
   "source": [
    "import numpy as np\n",
    "import chainer\n",
    "from chainer import cuda, Function, gradient_check, Variable, optimizers, serializers, utils\n",
    "from chainer import Link, Chain, ChainList\n",
    "import chainer.functions as F\n",
    "import chainer.links as L\n",
    "\n",
    "from pprint import pprint\n",
    "import csv\n",
    "import matplotlib.pyplot as plt\n",
    "%matplotlib inline"
   ]
  },
  {
   "cell_type": "code",
   "execution_count": 5,
   "metadata": {
    "collapsed": false
   },
   "outputs": [],
   "source": [
    "train = np.loadtxt('training_set.txt', delimiter = ',', dtype = 'float32')\n",
    "validation = np.loadtxt('validation_set.txt', delimiter = ',', dtype = 'float32')\n",
    "test = np.loadtxt('test_set.txt', delimiter = ',', dtype = 'float32')"
   ]
  },
  {
   "cell_type": "code",
   "execution_count": 32,
   "metadata": {
    "collapsed": false
   },
   "outputs": [
    {
     "name": "stdout",
     "output_type": "stream",
     "text": [
      "(1827, 4)\n",
      "(1827,)\n",
      "(608, 4)\n"
     ]
    }
   ],
   "source": [
    "trainX, trainY = np.hsplit(train, [4])\n",
    "trainY = trainY.flatten().astype(np.int32)\n",
    "\n",
    "valX, valY = np.hsplit(test, [4])\n",
    "valY = valY.flatten().astype(np.int32)\n",
    "\n",
    "testX, testY = np.hsplit(test, [4])\n",
    "testY = testY.flatten().astype(np.int32)\n",
    "\n",
    "pprint(trainX.shape)\n",
    "pprint(trainY.shape)\n",
    "pprint(testX.shape)\n"
   ]
  },
  {
   "cell_type": "code",
   "execution_count": 26,
   "metadata": {
    "collapsed": false
   },
   "outputs": [],
   "source": [
    "n_units = 100\n",
    "\n",
    "class MLP(Chain):\n",
    "    def __init__(self):\n",
    "        super(MLP, self).__init__(\n",
    "            l1 = F.Linear(4, n_units),\n",
    "            l2 = F.Linear(n_units, n_units),\n",
    "            l3 = F.Linear(n_units, n_units),\n",
    "            l4 = F.Linear(n_units, 3)\n",
    "        )\n",
    "    \n",
    "    def __call__(self, x):\n",
    "        h1 = F.relu(self.l1(x))\n",
    "        h2 = F.relu(self.l2(h1))\n",
    "        h3 = F.relu(self.l3(h2))\n",
    "        return self.l4(h3)"
   ]
  },
  {
   "cell_type": "code",
   "execution_count": 29,
   "metadata": {
    "collapsed": false
   },
   "outputs": [
    {
     "name": "stdout",
     "output_type": "stream",
     "text": [
      "epoch 0\n",
      "epoch 10\n",
      "epoch 20\n",
      "epoch 30\n",
      "epoch 40\n",
      "epoch 50\n",
      "epoch 60\n",
      "epoch 70\n",
      "epoch 80\n",
      "epoch 90\n"
     ]
    }
   ],
   "source": [
    "batchsize = 100\n",
    "m = len(trainX)\n",
    "epoches = range(100)\n",
    "losses = []\n",
    "accuracies = []\n",
    "\n",
    "model = L.Classifier(MLP())\n",
    "optimizer = optimizers.Adam()\n",
    "optimizer.setup(model)\n",
    "\n",
    "for epoch in epoches:\n",
    "    if epoch % 10 == 0:\n",
    "        print('epoch %d' % epoch)\n",
    "        \n",
    "    perm = np.random.permutation(m)\n",
    "    sum_loss, sum_accuracy = 0, 0\n",
    "    \n",
    "    for i in range(0, m, batchsize):\n",
    "        x = Variable(trainX[perm[i : i + batchsize]])\n",
    "        t = Variable(trainY[perm[i : i + batchsize]])\n",
    "        optimizer.update(model, x, t)\n",
    "        \n",
    "        sum_loss += float(model.loss.data) * len(t.data)\n",
    "        sum_accuracy += float(model.accuracy.data) * len(t.data)\n",
    "        \n",
    "    losses.append(sum_loss / m)\n",
    "    accuracies.append(sum_accuracy / m)"
   ]
  },
  {
   "cell_type": "code",
   "execution_count": 30,
   "metadata": {
    "collapsed": false
   },
   "outputs": [
    {
     "data": {
      "text/plain": [
       "(0, 1)"
      ]
     },
     "execution_count": 30,
     "metadata": {},
     "output_type": "execute_result"
    },
    {
     "data": {
      "image/png": "[encoded data removed]",
      "text/plain": [
       "<matplotlib.figure.Figure at 0x7f2a9ba91898>"
      ]
     },
     "metadata": {},
     "output_type": "display_data"
    }
   ],
   "source": [
    "plt.plot(epoches, losses, label = \"train loss\")\n",
    "plt.plot(epoches, accuracies, label = \"train acc\")\n",
    "plt.legend()\n",
    "plt.ylim(0, 1)"
   ]
  },
  {
   "cell_type": "code",
   "execution_count": 55,
   "metadata": {
    "collapsed": false
   },
   "outputs": [
    {
     "name": "stdout",
     "output_type": "stream",
     "text": [
      "0.08413130650296807\n",
      "0.9687500003921358\n"
     ]
    }
   ],
   "source": [
    "m = len(testX)\n",
    "sum_loss, sum_accuracy = 0, 0\n",
    "\n",
    "for i in range(0, len(testX), batchsize):\n",
    "    x = Variable(testX[i : i + batchsize])\n",
    "    t = Variable(testY[i : i + batchsize])\n",
    "    loss = model(x, t)\n",
    "    \n",
    "    sum_loss += float(loss.data) * len(t.data)\n",
    "    sum_accuracy += float(model.accuracy.data) * len(t.data)\n",
    "\n",
    "pprint(sum_loss / m)\n",
    "pprint(sum_accuracy / m)"
   ]
  },
  {
   "cell_type": "code",
   "execution_count": 93,
   "metadata": {
    "collapsed": false
   },
   "outputs": [
    {
     "name": "stdout",
     "output_type": "stream",
     "text": [
      "array([[ 11.        ,  13.        ,   0.        ,   0.36074609]], dtype=float32)\n",
      "h = 1, y = 0\n",
      "array([[ 58.        ,  59.        ,   0.        ,   0.86816448]], dtype=float32)\n",
      "h = 1, y = 0\n",
      "array([[ 2.        ,  4.        ,  1.        ,  0.90334886]], dtype=float32)\n",
      "h = 2, y = 0\n",
      "array([[ 72.        ,  69.        ,   1.        ,   0.80584991]], dtype=float32)\n",
      "h = 0, y = 2\n",
      "array([[ 38.        ,   2.        ,   0.        ,   0.84781688]], dtype=float32)\n",
      "h = 1, y = 0\n",
      "array([[ 50.        ,   1.        ,   0.        ,   0.73887241]], dtype=float32)\n",
      "h = 1, y = 0\n",
      "array([[ 42.        ,  40.        ,   0.        ,   0.56379825]], dtype=float32)\n",
      "h = 1, y = 0\n",
      "array([[ 17.        ,  27.        ,   0.        ,   0.56337434]], dtype=float32)\n",
      "h = 1, y = 0\n",
      "array([[ 4.        ,  4.        ,  0.        ,  0.18016109]], dtype=float32)\n",
      "h = 0, y = 1\n",
      "array([[ 32.        ,   1.        ,   0.        ,   0.57015687]], dtype=float32)\n",
      "h = 1, y = 0\n",
      "array([[ 12.        ,  11.        ,   0.        ,   0.68927515]], dtype=float32)\n",
      "h = 1, y = 0\n",
      "array([[  9.        ,  11.        ,   1.        ,   0.80796945]], dtype=float32)\n",
      "h = 2, y = 0\n",
      "array([[ 7.        ,  8.        ,  0.        ,  0.30055109]], dtype=float32)\n",
      "h = 1, y = 0\n",
      "array([[  9.        ,  10.        ,   0.        ,   0.81348032]], dtype=float32)\n",
      "h = 1, y = 0\n",
      "array([[ 9.        ,  5.        ,  1.        ,  0.97498941]], dtype=float32)\n",
      "h = 2, y = 0\n",
      "array([[ 37.        ,   2.        ,   0.        ,   0.93556589]], dtype=float32)\n",
      "h = 1, y = 0\n",
      "array([[ 151.        ,  146.        ,    0.        ,    0.66044933]], dtype=float32)\n",
      "h = 1, y = 0\n",
      "array([[ 5.        ,  3.        ,  1.        ,  0.89317507]], dtype=float32)\n",
      "h = 2, y = 0\n",
      "array([[ 35.        ,  46.        ,   0.        ,   0.34294191]], dtype=float32)\n",
      "h = 1, y = 0\n",
      "0.96875\n"
     ]
    }
   ],
   "source": [
    "res = 0\n",
    "for i in range(0, m):\n",
    "    x = Variable(testX[i].reshape(1, 4))\n",
    "    h = model.predictor(x).data.argmax()\n",
    "    \n",
    "    if h == testY[i]:\n",
    "        res += 1\n",
    "    else:\n",
    "        pprint(x.data)\n",
    "        print(\"h = %d, y = %d\" % (h, testY[i]))\n",
    "\n",
    "pprint(res / m)"
   ]
  },
  {
   "cell_type": "code",
   "execution_count": null,
   "metadata": {
    "collapsed": true
   },
   "outputs": [],
   "source": []
  }
 ],
 "metadata": {
  "kernelspec": {
   "display_name": "Python 3",
   "language": "python",
   "name": "python3"
  },
  "language_info": {
   "codemirror_mode": {
    "name": "ipython",
    "version": 3
   },
   "file_extension": ".py",
   "mimetype": "text/x-python",
   "name": "python",
   "nbconvert_exporter": "python",
   "pygments_lexer": "ipython3",
   "version": "3.4.3"
  }
 },
 "nbformat": 4,
 "nbformat_minor": 0
}
